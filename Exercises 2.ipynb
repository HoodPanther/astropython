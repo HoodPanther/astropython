{
 "cells": [
  {
   "cell_type": "markdown",
   "metadata": {},
   "source": [
    "## Objects\n",
    "\n",
    "1. Check the example `star.py`, for each exercise you shoud test the new code in the main function.\n",
    "    * Define a new class variable AU, that represents the unit of distance from the Sun to the Earth (149 597 871 Km).\n",
    "    * Implement the `__str__` method to the class so we can easily read the content\n",
    "    * Overload the + operator (`__add__`). So the result of the two stars is simply the sum of the massses and the root square of the sum of the radius.\n",
    "\n",
    "2. \tCreate new class planet: `planet.py`. (ideas for object variables: planetary_radius, planetary_mass, eccentricity, Period, distance to star, life?).\n",
    "\n",
    "3. Create a new class `Planetary_System`. \n",
    "\t* This class must have a star (from `star.py`) and a list of planets to represent the planets\n",
    "\t* Create a method to compute the total mass of the planets in the planetary system."
   ]
  },
  {
   "cell_type": "code",
   "execution_count": null,
   "metadata": {
    "collapsed": true
   },
   "outputs": [],
   "source": []
  },
  {
   "cell_type": "markdown",
   "metadata": {},
   "source": [
    "## Numpy\n",
    "\n",
    "1. Import the numpy package under the name `np`\n",
    "2. Create a null vector of size 10\n",
    "3. Create a null vector of size 10 but the fifth value which is 1\n",
    "4. Create a vector with values ranging from 10 to 99\n",
    "5. Create a 3x3 matrix with values ranging from 0 to 8\n",
    "6. Find indices of non-zero elements from [1,2,0,0,4,0]\n",
    "7. Declare a 3x3 identity matrix\n",
    "8. \n",
    "    * Declare a 10x10x10 array with random values\n",
    "    * Generate an array with 10 random numbers extracted from a poisson distribution with lambda = 5:\n",
    "9. Declare a 8x8 matrix and fill it with a checkerboard pattern\n",
    "10. \n",
    "    * Declare a 10x10 array with random values and find the minimum and maximum values\n",
    "    * Generate an array with random 100 integer numbers, ranging from 5 to 97. Check the mean of the even numbers.\n",
    "    * Generate an  array with 5 numbers for 1 to 50. Make sure there is no numbers repeated in the selected 5.\n",
    "11. Normalize a 5x5 random matrix (between 0 and 1)\n",
    "12. * Multiply a 3x3 matrix by a 3x3 matrix \n",
    "    * Multiply a 5x3 matrix by a 3x2 matrix (real matrix product)\n",
    "    * Multiply a 5x3 matrix by a 3x2 matrix (real matrix product)\n",
    "    * try to multiply a 5x3 matrix by a 3x2 matrix\n",
    "13. Create a vector of size 1000 with values ranging from 0 to 1, both excluded\n",
    "14. Create a random vector of size 100 and sort it, and find its mean value\n",
    "15. Create random vector of size 100 and replace the maximum value by 0\n",
    "16. Generate a generic 2D Gaussian-like array\n",
    "17. Find the nearest value from a given value in an array\n",
    "18. Consider the following file:\n",
    "    ```\n",
    "    1,2,3,4,5\n",
    "    6,,,7,8\n",
    "    ,,9,10,11\n",
    "    ```\n",
    "    How to read it ?"
   ]
  },
  {
   "cell_type": "code",
   "execution_count": null,
   "metadata": {
    "collapsed": true
   },
   "outputs": [],
   "source": []
  }
 ],
 "metadata": {
  "kernelspec": {
   "display_name": "Python 3",
   "language": "python",
   "name": "python3"
  },
  "language_info": {
   "codemirror_mode": {
    "name": "ipython",
    "version": 3
   },
   "file_extension": ".py",
   "mimetype": "text/x-python",
   "name": "python",
   "nbconvert_exporter": "python",
   "pygments_lexer": "ipython3",
   "version": "3.6.1"
  }
 },
 "nbformat": 4,
 "nbformat_minor": 2
}
